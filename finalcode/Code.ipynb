{
 "cells": [
  {
   "cell_type": "code",
   "execution_count": 82,
   "metadata": {},
   "outputs": [],
   "source": [
    "import gensim\n",
    "import pandas\n",
    "from gensim import corpora, models"
   ]
  },
  {
   "cell_type": "code",
   "execution_count": 83,
   "metadata": {},
   "outputs": [],
   "source": [
    "DICT_SIZE = 2000\n",
    "NUM_TOPIC = 50"
   ]
  },
  {
   "cell_type": "code",
   "execution_count": 84,
   "metadata": {},
   "outputs": [],
   "source": [
    "docs_ful = pandas.read_csv('./train.csv')\n",
    "docs = docs_ful['content']"
   ]
  },
  {
   "cell_type": "code",
   "execution_count": 85,
   "metadata": {},
   "outputs": [],
   "source": [
    "processed_docs = docs.astype(str).apply(lambda x : x.split())"
   ]
  },
  {
   "cell_type": "code",
   "execution_count": 86,
   "metadata": {},
   "outputs": [],
   "source": [
    "dictionary= gensim.corpora.Dictionary(processed_docs)"
   ]
  },
  {
   "cell_type": "code",
   "execution_count": 87,
   "metadata": {},
   "outputs": [
    {
     "data": {
      "text/plain": [
       "77581"
      ]
     },
     "execution_count": 87,
     "metadata": {},
     "output_type": "execute_result"
    }
   ],
   "source": [
    "len(dictionary)"
   ]
  },
  {
   "cell_type": "code",
   "execution_count": 88,
   "metadata": {},
   "outputs": [],
   "source": [
    "dictionary.filter_extremes(no_below=2, no_above=0.7, keep_n=DICT_SIZE)"
   ]
  },
  {
   "cell_type": "code",
   "execution_count": 89,
   "metadata": {},
   "outputs": [
    {
     "data": {
      "text/plain": [
       "2000"
      ]
     },
     "execution_count": 89,
     "metadata": {},
     "output_type": "execute_result"
    }
   ],
   "source": [
    "len(dictionary)"
   ]
  },
  {
   "cell_type": "code",
   "execution_count": 90,
   "metadata": {},
   "outputs": [],
   "source": [
    "bow_corpus = [dictionary.doc2bow(doc) for doc in processed_docs]"
   ]
  },
  {
   "cell_type": "code",
   "execution_count": 91,
   "metadata": {},
   "outputs": [],
   "source": [
    "tfidf = models.TfidfModel(bow_corpus)"
   ]
  },
  {
   "cell_type": "code",
   "execution_count": 92,
   "metadata": {},
   "outputs": [],
   "source": [
    "corpus_tfidf = tfidf[bow_corpus]\n"
   ]
  },
  {
   "cell_type": "code",
   "execution_count": 93,
   "metadata": {
    "scrolled": true
   },
   "outputs": [],
   "source": [
    "lda_model_tfidf = gensim.models.LdaMulticore(corpus_tfidf, num_topics=NUM_TOPIC, id2word=dictionary, passes=2, workers=4)\n"
   ]
  },
  {
   "cell_type": "code",
   "execution_count": 96,
   "metadata": {},
   "outputs": [
    {
     "name": "stdout",
     "output_type": "stream",
     "text": [
      "719\n"
     ]
    }
   ],
   "source": [
    "# After lda_model\n",
    "docs_ful_val = pandas.read_csv('./test.csv')\n",
    "docs_val = docs_ful_val['content']\n",
    "\n",
    "bow_corpus_val = [dictionary.doc2bow(doc) for doc in docs_val.astype(str).apply(lambda x: x.split())]\n",
    "corpus_tfidf_val = tfidf[bow_corpus_val]\n",
    "\n",
    "data_after_lda = []\n",
    "for cor in corpus_tfidf_val:\n",
    "    temp = [0] * NUM_TOPIC\n",
    "    for index_topic, val in lda_model_tfidf[cor]:\n",
    "        temp[index_topic] = val\n",
    "    data_after_lda.append(temp)\n",
    "data = pandas.DataFrame(data={'data': data_after_lda, 'label': docs_ful_val['label']})\n",
    "print(len(data_after_lda))\n",
    "data.to_csv('after_lda_test.csv')"
   ]
  },
  {
   "cell_type": "code",
   "execution_count": 95,
   "metadata": {},
   "outputs": [
    {
     "name": "stdout",
     "output_type": "stream",
     "text": [
      "7893\n"
     ]
    }
   ],
   "source": [
    "# After lda_model\n",
    "data_after_lda = []\n",
    "for cor in corpus_tfidf:\n",
    "    temp = [0] * NUM_TOPIC\n",
    "    for index_topic, val in lda_model_tfidf[cor]:\n",
    "        temp[index_topic] = val\n",
    "    data_after_lda.append(temp)\n",
    "data = pandas.DataFrame(data={'data': data_after_lda, 'label': docs_ful['label']})\n",
    "print(len(data_after_lda))\n",
    "data.to_csv('after_lda_train.csv')"
   ]
  },
  {
   "cell_type": "code",
   "execution_count": null,
   "metadata": {},
   "outputs": [],
   "source": []
  },
  {
   "cell_type": "code",
   "execution_count": null,
   "metadata": {},
   "outputs": [],
   "source": []
  },
  {
   "cell_type": "code",
   "execution_count": null,
   "metadata": {},
   "outputs": [],
   "source": []
  },
  {
   "cell_type": "code",
   "execution_count": 18,
   "metadata": {},
   "outputs": [],
   "source": [
    "# Convert data\n"
   ]
  },
  {
   "cell_type": "code",
   "execution_count": 107,
   "metadata": {},
   "outputs": [],
   "source": [
    "temp = pandas.read_csv('/home/viet-user/Desktop/learning/semantic1/NLP/textclassfication/finalcode/pj/data/after_lda_val.csv')"
   ]
  },
  {
   "cell_type": "code",
   "execution_count": 108,
   "metadata": {},
   "outputs": [],
   "source": [
    "def convert(s):\n",
    "    if s == 'giao_duc':\n",
    "        return 0\n",
    "    elif s == 'the_gioi':\n",
    "        return 1\n",
    "    elif s == 'phap_luat':\n",
    "        return 2\n",
    "    elif s == 'giai_tri':\n",
    "        return 3\n",
    "    elif s == 'kinh_doanh':\n",
    "        return 4\n",
    "    elif s == 'van_hoa':\n",
    "        return 5\n",
    "    elif s == 'khoa_hoc':\n",
    "        return 6\n",
    "    elif s == 'the_thao':\n",
    "        return 7\n",
    "    elif s == 'suc_khoe':\n",
    "        return 8\n",
    "    elif s == 'xe':\n",
    "        return 9"
   ]
  },
  {
   "cell_type": "code",
   "execution_count": 109,
   "metadata": {},
   "outputs": [],
   "source": [
    "temp['label'] = [convert(s) for s in temp['label']]"
   ]
  },
  {
   "cell_type": "code",
   "execution_count": 110,
   "metadata": {},
   "outputs": [],
   "source": [
    "temp = pandas.DataFrame(data={'data': temp['data'], 'label':temp['label']})"
   ]
  },
  {
   "cell_type": "code",
   "execution_count": 111,
   "metadata": {},
   "outputs": [],
   "source": [
    "temp.to_csv('/home/viet-user/Desktop/learning/semantic1/NLP/textclassfication/finalcode/pj/data/after_lda_val.csv', index=False)"
   ]
  },
  {
   "cell_type": "code",
   "execution_count": null,
   "metadata": {},
   "outputs": [],
   "source": []
  }
 ],
 "metadata": {
  "kernelspec": {
   "display_name": "Python 3",
   "language": "python",
   "name": "python3"
  },
  "language_info": {
   "codemirror_mode": {
    "name": "ipython",
    "version": 3
   },
   "file_extension": ".py",
   "mimetype": "text/x-python",
   "name": "python",
   "nbconvert_exporter": "python",
   "pygments_lexer": "ipython3",
   "version": "3.6.7"
  }
 },
 "nbformat": 4,
 "nbformat_minor": 2
}
