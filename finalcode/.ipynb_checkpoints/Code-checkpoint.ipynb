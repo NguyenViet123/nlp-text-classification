{
 "cells": [
  {
   "cell_type": "code",
   "execution_count": 1,
   "metadata": {},
   "outputs": [],
   "source": [
    "import gensim\n",
    "import pandas\n",
    "from gensim import corpora, models"
   ]
  },
  {
   "cell_type": "code",
   "execution_count": 2,
   "metadata": {},
   "outputs": [],
   "source": [
    "DICT_SIZE = 10000\n",
    "NUM_TOPIC = 100"
   ]
  },
  {
   "cell_type": "code",
   "execution_count": 3,
   "metadata": {},
   "outputs": [],
   "source": [
    "docs_ful = pandas.read_csv('./train.csv')\n",
    "docs = docs_ful['content']"
   ]
  },
  {
   "cell_type": "code",
   "execution_count": 4,
   "metadata": {},
   "outputs": [],
   "source": [
    "processed_docs = docs.astype(str).apply(lambda x : x.split())"
   ]
  },
  {
   "cell_type": "code",
   "execution_count": null,
   "metadata": {},
   "outputs": [],
   "source": [
    "dictionary= gensim.corpora.Dictionary(processed_docs)"
   ]
  },
  {
   "cell_type": "code",
   "execution_count": null,
   "metadata": {},
   "outputs": [
    {
     "data": {
      "text/plain": [
       "77581"
      ]
     },
     "execution_count": 6,
     "metadata": {},
     "output_type": "execute_result"
    }
   ],
   "source": [
    "len(dictionary)"
   ]
  },
  {
   "cell_type": "code",
   "execution_count": null,
   "metadata": {},
   "outputs": [],
   "source": [
    "dictionary.filter_extremes(no_below=2, no_above=0.7, keep_n=DICT_SIZE)"
   ]
  },
  {
   "cell_type": "code",
   "execution_count": null,
   "metadata": {},
   "outputs": [
    {
     "data": {
      "text/plain": [
       "10000"
      ]
     },
     "execution_count": 8,
     "metadata": {},
     "output_type": "execute_result"
    }
   ],
   "source": [
    "len(dictionary)"
   ]
  },
  {
   "cell_type": "code",
   "execution_count": null,
   "metadata": {},
   "outputs": [],
   "source": [
    "bow_corpus = [dictionary.doc2bow(doc) for doc in processed_docs]"
   ]
  },
  {
   "cell_type": "code",
   "execution_count": null,
   "metadata": {},
   "outputs": [
    {
     "name": "stdout",
     "output_type": "stream",
     "text": [
      "Word 4 (\"3\") appears 2 time.\n",
      "Word 25 (\"giúp\") appears 1 time.\n",
      "Word 39 (\"phòng\") appears 1 time.\n",
      "Word 41 (\"suốt\") appears 1 time.\n",
      "Word 48 (\"tiền\") appears 3 time.\n",
      "Word 58 (\"việt_nam\") appears 3 time.\n",
      "Word 61 (\"đồng\") appears 2 time.\n",
      "Word 64 (\"\"\") appears 22 time.\n",
      "Word 65 (\"...\") appears 5 time.\n",
      "Word 66 (\"/\") appears 1 time.\n",
      "Word 70 (\"19/11\") appears 1 time.\n",
      "Word 74 (\"2\") appears 1 time.\n",
      "Word 76 (\"20\") appears 1 time.\n",
      "Word 80 (\"2004\") appears 1 time.\n",
      "Word 84 (\"4\") appears 1 time.\n",
      "Word 87 (\"80\") appears 1 time.\n",
      "Word 100 (\"bức_xúc\") appears 1 time.\n",
      "Word 105 (\"chuyên_gia\") appears 1 time.\n",
      "Word 106 (\"chuyên_môn\") appears 1 time.\n",
      "Word 109 (\"chất_lượng\") appears 1 time.\n",
      "Word 112 (\"chủ_nhiệm\") appears 4 time.\n",
      "Word 113 (\"chủ_tịch\") appears 1 time.\n",
      "Word 115 (\"cuộc_sống\") appears 1 time.\n",
      "Word 117 (\"câu\") appears 1 time.\n",
      "Word 118 (\"câu_chuyện\") appears 1 time.\n",
      "Word 121 (\"công_việc\") appears 3 time.\n",
      "Word 122 (\"công_đoàn\") appears 1 time.\n",
      "Word 135 (\"dạy\") appears 3 time.\n",
      "Word 137 (\"gia_đình\") appears 1 time.\n",
      "Word 141 (\"giáo_dục\") appears 9 time.\n",
      "Word 142 (\"giáo_viên\") appears 18 time.\n",
      "Word 144 (\"giải_pháp\") appears 1 time.\n",
      "Word 147 (\"giỏi\") appears 4 time.\n",
      "Word 150 (\"hai\") appears 1 time.\n",
      "Word 158 (\"hà_nội\") appears 7 time.\n",
      "Word 159 (\"hàng\") appears 2 time.\n",
      "Word 163 (\"hôm\") appears 1 time.\n",
      "Word 166 (\"học\") appears 4 time.\n",
      "Word 170 (\"học_sinh\") appears 7 time.\n",
      "Word 171 (\"học_trò\") appears 1 time.\n",
      "Word 174 (\"hối_hận\") appears 1 time.\n",
      "Word 181 (\"khổ_sở\") appears 1 time.\n",
      "Word 183 (\"kinh_nghiệm\") appears 1 time.\n",
      "Word 188 (\"kết_quả\") appears 2 time.\n",
      "Word 193 (\"lâm\") appears 1 time.\n",
      "Word 194 (\"lương\") appears 4 time.\n",
      "Word 195 (\"lắm\") appears 1 time.\n",
      "Word 197 (\"lớp\") appears 4 time.\n",
      "Word 208 (\"nghiên_cứu\") appears 2 time.\n",
      "Word 211 (\"nghề_nghiệp\") appears 4 time.\n",
      "Word 213 (\"nguyên\") appears 1 time.\n",
      "Word 214 (\"ngành\") appears 1 time.\n",
      "Word 218 (\"nhiệm_vụ\") appears 1 time.\n",
      "Word 220 (\"nhà_giáo\") appears 1 time.\n",
      "Word 221 (\"nhà_trường\") appears 3 time.\n",
      "Word 231 (\"năng_lực\") appears 1 time.\n",
      "Word 237 (\"phát_triển\") appears 1 time.\n",
      "Word 241 (\"phương_pháp\") appears 1 time.\n",
      "Word 245 (\"phụ_huynh\") appears 2 time.\n",
      "Word 248 (\"quy_định\") appears 2 time.\n",
      "Word 252 (\"quản_lý\") appears 1 time.\n",
      "Word 264 (\"sống\") appears 1 time.\n",
      "Word 265 (\"sổ\") appears 1 time.\n",
      "Word 273 (\"thpt\") appears 1 time.\n",
      "Word 275 (\"thành_phố\") appears 3 time.\n",
      "Word 282 (\"thầy\") appears 1 time.\n",
      "Word 287 (\"thủ_đô\") appears 1 time.\n",
      "Word 289 (\"tiêu_chí\") appears 1 time.\n",
      "Word 296 (\"triệu\") appears 1 time.\n",
      "Word 297 (\"trung_bình\") appears 1 time.\n",
      "Word 300 (\"trường\") appears 4 time.\n",
      "Word 303 (\"ts\") appears 2 time.\n",
      "Word 306 (\"tuần\") appears 2 time.\n",
      "Word 308 (\"tâm_huyết\") appears 1 time.\n",
      "Word 333 (\"vui\") appears 1 time.\n",
      "Word 340 (\"xây_dựng\") appears 1 time.\n",
      "Word 341 (\"xã_hội\") appears 1 time.\n",
      "Word 353 (\"đi\") appears 2 time.\n",
      "Word 357 (\"đào_tạo\") appears 1 time.\n",
      "Word 363 (\"đại_học\") appears 1 time.\n",
      "Word 372 (\"đổi_mới\") appears 1 time.\n",
      "Word 380 (\"10\") appears 2 time.\n",
      "Word 382 (\"15\") appears 1 time.\n",
      "Word 400 (\"chương_trình\") appears 3 time.\n",
      "Word 429 (\"khoa_học\") appears 1 time.\n",
      "Word 433 (\"lao_động\") appears 5 time.\n",
      "Word 436 (\"làm_việc\") appears 1 time.\n",
      "Word 437 (\"lĩnh_vực\") appears 1 time.\n",
      "Word 441 (\"lựa_chọn\") appears 1 time.\n",
      "Word 443 (\"mong_muốn\") appears 1 time.\n",
      "Word 460 (\"phát_biểu\") appears 1 time.\n",
      "Word 478 (\"thi\") appears 10 time.\n",
      "Word 498 (\"tuyển_sinh\") appears 2 time.\n",
      "Word 506 (\"tổ_chức\") appears 1 time.\n",
      "Word 526 (\"14\") appears 1 time.\n",
      "Word 554 (\"gánh\") appears 4 time.\n",
      "Word 565 (\"kéo_dài\") appears 2 time.\n",
      "Word 571 (\"nghề\") appears 8 time.\n",
      "Word 573 (\"nêu\") appears 1 time.\n",
      "Word 594 (\"tốn\") appears 1 time.\n",
      "Word 606 (\"8\") appears 2 time.\n",
      "Word 609 (\"cô_giáo\") appears 8 time.\n",
      "Word 610 (\"công_nghệ\") appears 1 time.\n",
      "Word 616 (\"hướng_dẫn\") appears 1 time.\n",
      "Word 621 (\"mạng\") appears 1 time.\n",
      "Word 625 (\"phổ_thông\") appears 2 time.\n",
      "Word 627 (\"thông_tin\") appears 3 time.\n",
      "Word 645 (\"công_tác\") appears 2 time.\n",
      "Word 653 (\"giao\") appears 1 time.\n",
      "Word 676 (\"pgs\") appears 2 time.\n",
      "Word 677 (\"pháp_luật\") appears 1 time.\n",
      "Word 679 (\"phó\") appears 1 time.\n",
      "Word 685 (\"tham_gia\") appears 1 time.\n",
      "Word 722 (\"lịch_sử\") appears 1 time.\n",
      "Word 745 (\"vai\") appears 3 time.\n",
      "Word 781 (\"bất_cập\") appears 1 time.\n",
      "Word 811 (\"dạy_học\") appears 2 time.\n",
      "Word 838 (\"kiểm_tra\") appears 1 time.\n",
      "Word 841 (\"kỳ\") appears 3 time.\n",
      "Word 878 (\"sư_phạm\") appears 1 time.\n",
      "Word 881 (\"tham_dự\") appears 2 time.\n",
      "Word 884 (\"thcs\") appears 3 time.\n",
      "Word 887 (\"thành_tích\") appears 2 time.\n",
      "Word 935 (\"xếp_hạng\") appears 1 time.\n",
      "Word 936 (\"áp_lực\") appears 11 time.\n",
      "Word 976 (\"hội\") appears 1 time.\n",
      "Word 993 (\"nữ\") appears 1 time.\n",
      "Word 1054 (\"mệt_mỏi\") appears 1 time.\n",
      "Word 1097 (\"giáo\") appears 3 time.\n",
      "Word 1102 (\"khóc\") appears 1 time.\n",
      "Word 1123 (\"sốc\") appears 1 time.\n",
      "Word 1166 (\"16/11\") appears 1 time.\n",
      "Word 1167 (\"19h\") appears 2 time.\n",
      "Word 1168 (\"2009\") appears 1 time.\n",
      "Word 1169 (\"4,1\") appears 1 time.\n",
      "Word 1170 (\"9\") appears 1 time.\n",
      "Word 1171 (\"ba_đình\") appears 1 time.\n",
      "Word 1172 (\"biên_chế\") appears 1 time.\n",
      "Word 1173 (\"bất_an\") appears 1 time.\n",
      "Word 1174 (\"bắt\") appears 2 time.\n",
      "Word 1175 (\"bồi_dưỡng\") appears 1 time.\n",
      "Word 1176 (\"chi_trả\") appears 1 time.\n",
      "Word 1177 (\"chuyên\") appears 1 time.\n",
      "Word 1178 (\"chuyên_tâm\") appears 1 time.\n",
      "Word 1179 (\"chân\") appears 1 time.\n",
      "Word 1180 (\"chân_thực\") appears 1 time.\n",
      "Word 1181 (\"chép\") appears 2 time.\n",
      "Word 1182 (\"chỉ_tiêu\") appears 2 time.\n",
      "Word 1183 (\"chục\") appears 1 time.\n",
      "Word 1184 (\"chủ_tọa\") appears 1 time.\n",
      "Word 1185 (\"chữa\") appears 1 time.\n",
      "Word 1186 (\"con_gái\") appears 1 time.\n",
      "Word 1187 (\"công_sức\") appears 1 time.\n",
      "Word 1188 (\"cú\") appears 1 time.\n",
      "Word 1189 (\"căn_bệnh\") appears 1 time.\n",
      "Word 1190 (\"căng_thẳng\") appears 2 time.\n",
      "Word 1191 (\"cải_cách\") appears 1 time.\n",
      "Word 1192 (\"cảm\") appears 1 time.\n",
      "Word 1193 (\"cấp_thiết\") appears 1 time.\n",
      "Word 1194 (\"cởi\") appears 1 time.\n",
      "Word 1195 (\"cụm\") appears 1 time.\n",
      "Word 1196 (\"cực\") appears 1 time.\n",
      "Word 1197 (\"danh_hiệu\") appears 1 time.\n",
      "Word 1198 (\"danh_sách\") appears 1 time.\n",
      "Word 1199 (\"dặn_dò\") appears 1 time.\n",
      "Word 1200 (\"giao_thông\") appears 1 time.\n",
      "Word 1201 (\"giảng\") appears 1 time.\n",
      "Word 1202 (\"giọng\") appears 1 time.\n",
      "Word 1203 (\"gạo\") appears 1 time.\n",
      "Word 1204 (\"gửi\") appears 1 time.\n",
      "Word 1205 (\"hiến_chương\") appears 1 time.\n",
      "Word 1206 (\"hiểu_biết\") appears 1 time.\n",
      "Word 1207 (\"hôm_nay\") appears 1 time.\n",
      "Word 1208 (\"hồ_sơ\") appears 1 time.\n",
      "Word 1209 (\"hội_thảo\") appears 2 time.\n",
      "Word 1210 (\"in\") appears 1 time.\n",
      "Word 1211 (\"khiếu_kiện\") appears 1 time.\n",
      "Word 1212 (\"khắp_nơi\") appears 1 time.\n",
      "Word 1213 (\"kiểu\") appears 1 time.\n",
      "Word 1214 (\"liên_hoan\") appears 1 time.\n",
      "Word 1215 (\"lo\") appears 2 time.\n",
      "Word 1216 (\"lễ\") appears 1 time.\n",
      "Word 1217 (\"máy_tính\") appears 1 time.\n",
      "Word 1218 (\"mơ_hồ\") appears 1 time.\n",
      "Word 1219 (\"một_nửa\") appears 1 time.\n",
      "Word 1220 (\"mừng\") appears 1 time.\n",
      "Word 1221 (\"ngược_lại\") appears 1 time.\n",
      "Word 1222 (\"ngắt\") appears 1 time.\n",
      "Word 1223 (\"nhật_bản\") appears 1 time.\n",
      "Word 1224 (\"nói_dối\") appears 1 time.\n",
      "Word 1225 (\"nặng_nề\") appears 1 time.\n",
      "Word 1226 (\"nỗi\") appears 1 time.\n",
      "Word 1227 (\"nộp\") appears 1 time.\n",
      "Word 1228 (\"online\") appears 1 time.\n",
      "Word 1229 (\"pháo\") appears 1 time.\n",
      "Word 1230 (\"phút\") appears 1 time.\n",
      "Word 1231 (\"sinh_nhật\") appears 1 time.\n",
      "Word 1232 (\"sư\") appears 1 time.\n",
      "Word 1233 (\"sợ_hãi\") appears 1 time.\n",
      "Word 1234 (\"tham_luận\") appears 1 time.\n",
      "Word 1235 (\"thi_cử\") appears 1 time.\n",
      "Word 1236 (\"thuê\") appears 1 time.\n",
      "Word 1237 (\"thưởng\") appears 1 time.\n",
      "Word 1238 (\"thảo\") appears 6 time.\n",
      "Word 1239 (\"tiết\") appears 2 time.\n",
      "Word 1240 (\"trang\") appears 1 time.\n",
      "Word 1241 (\"trang_trí\") appears 1 time.\n",
      "Word 1242 (\"tràng\") appears 1 time.\n",
      "Word 1243 (\"trói\") appears 1 time.\n",
      "Word 1244 (\"trầm\") appears 1 time.\n",
      "Word 1245 (\"tâm_lý_học\") appears 1 time.\n",
      "Word 1246 (\"tưng_bừng\") appears 1 time.\n",
      "Word 1247 (\"tải\") appears 1 time.\n",
      "Word 1248 (\"tất_bật\") appears 1 time.\n",
      "Word 1249 (\"tầm\") appears 1 time.\n",
      "Word 1250 (\"vang\") appears 1 time.\n",
      "Word 1251 (\"viện\") appears 1 time.\n",
      "Word 1252 (\"viện_trưởng\") appears 1 time.\n",
      "Word 1253 (\"vòng\") appears 1 time.\n",
      "Word 1254 (\"vô_lý\") appears 1 time.\n",
      "Word 1255 (\"xe_ôm\") appears 1 time.\n",
      "Word 1256 (\"xuất_khẩu\") appears 1 time.\n",
      "Word 1257 (\"xúc_động\") appears 1 time.\n",
      "Word 1258 (\"xứ\") appears 1 time.\n",
      "Word 1259 (\"đam_mê\") appears 1 time.\n",
      "Word 1260 (\"đè\") appears 1 time.\n",
      "Word 1261 (\"đạo\") appears 1 time.\n",
      "Word 1262 (\"đấy\") appears 1 time.\n",
      "Word 1263 (\"đặc_thù\") appears 1 time.\n",
      "Word 1264 (\"đề_tài\") appears 1 time.\n",
      "Word 1265 (\"đối_mặt\") appears 1 time.\n",
      "Word 1266 (\"đồng_nghiệp\") appears 5 time.\n"
     ]
    }
   ],
   "source": [
    "bow_doc_10 = bow_corpus[11]\n",
    "# print(processed_docs[10])\n",
    "for i in range(len(bow_doc_10)):\n",
    "    print(\"Word {} (\\\"{}\\\") appears {} time.\".format(bow_doc_10[i][0], \n",
    "                                                     dictionary[bow_doc_10[i][0]], \n",
    "                                                     bow_doc_10[i][1]))"
   ]
  },
  {
   "cell_type": "code",
   "execution_count": null,
   "metadata": {},
   "outputs": [],
   "source": [
    "tfidf = models.TfidfModel(bow_corpus)"
   ]
  },
  {
   "cell_type": "code",
   "execution_count": null,
   "metadata": {},
   "outputs": [],
   "source": [
    "corpus_tfidf = tfidf[bow_corpus]\n"
   ]
  },
  {
   "cell_type": "code",
   "execution_count": null,
   "metadata": {},
   "outputs": [
    {
     "data": {
      "text/plain": [
       "7893"
      ]
     },
     "execution_count": 13,
     "metadata": {},
     "output_type": "execute_result"
    }
   ],
   "source": [
    "len(corpus_tfidf)"
   ]
  },
  {
   "cell_type": "code",
   "execution_count": null,
   "metadata": {},
   "outputs": [
    {
     "name": "stdout",
     "output_type": "stream",
     "text": [
      "[(0, 0.06515062726253931),\n",
      " (1, 0.11465819008888783),\n",
      " (2, 0.08018156060093633),\n",
      " (3, 0.10758043582105148),\n",
      " (4, 0.05458072691796573),\n",
      " (5, 0.044681022223170566),\n",
      " (6, 0.051393124428572697),\n",
      " (7, 0.1019454085789914),\n",
      " (8, 0.11317155108706278),\n",
      " (9, 0.047188707948531805),\n",
      " (10, 0.06676687620604582),\n",
      " (11, 0.08723804185895156),\n",
      " (12, 0.12749111052506043),\n",
      " (13, 0.08590652834732028),\n",
      " (14, 0.0669806662904122),\n",
      " (15, 0.0678593664536162),\n",
      " (16, 0.17527058280407543),\n",
      " (17, 0.07652410878669526),\n",
      " (18, 0.035966381752919656),\n",
      " (19, 0.0899730117746618),\n",
      " (20, 0.19255397798467924),\n",
      " (21, 0.12707639293711395),\n",
      " (22, 0.1098755585363314),\n",
      " (23, 0.2676523523973766),\n",
      " (24, 0.10365371222716085),\n",
      " (25, 0.026656566385555913),\n",
      " (26, 0.06519938894816227),\n",
      " (27, 0.071636941060211),\n",
      " (28, 0.050491379522591556),\n",
      " (29, 0.07771146396759739),\n",
      " (30, 0.07858651312589891),\n",
      " (31, 0.05823535230711694),\n",
      " (32, 0.27736683497012515),\n",
      " (33, 0.12095030073042466),\n",
      " (34, 0.10601649249858594),\n",
      " (35, 0.17599514126173865),\n",
      " (36, 0.061772708988113205),\n",
      " (37, 0.16729250882456437),\n",
      " (38, 0.13339223236143227),\n",
      " (39, 0.04249450036814959),\n",
      " (40, 0.07687299490884604),\n",
      " (41, 0.05258047960947484),\n",
      " (42, 0.07734782054094314),\n",
      " (43, 0.08332006110519996),\n",
      " (44, 0.10652437902814972),\n",
      " (45, 0.4260975161125989),\n",
      " (46, 0.06368467373968081),\n",
      " (47, 0.03826057923487229),\n",
      " (48, 0.17275921881632034),\n",
      " (49, 0.07200168649726911),\n",
      " (50, 0.1582084615964269),\n",
      " (51, 0.04984071341247903),\n",
      " (52, 0.07618118682287037),\n",
      " (53, 0.06870011772791074),\n",
      " (54, 0.0898362921994652),\n",
      " (55, 0.06267699487973775),\n",
      " (56, 0.38283973270527727),\n",
      " (57, 0.1416463121841006),\n",
      " (58, 0.025194623921619603),\n",
      " (59, 0.05418034814831375),\n",
      " (60, 0.053583710969924814),\n",
      " (61, 0.028275060647951284),\n",
      " (62, 0.019093909816115046),\n",
      " (63, 0.01926581976926083)]\n"
     ]
    }
   ],
   "source": [
    "from pprint import pprint\n",
    "\n",
    "for doc in corpus_tfidf:\n",
    "    pprint(doc)\n",
    "    break\n"
   ]
  },
  {
   "cell_type": "code",
   "execution_count": null,
   "metadata": {},
   "outputs": [],
   "source": [
    "lda_model_tfidf = gensim.models.LdaMulticore(corpus_tfidf, num_topics=NUM_TOPIC, id2word=dictionary, passes=2, workers=4)\n"
   ]
  },
  {
   "cell_type": "code",
   "execution_count": null,
   "metadata": {},
   "outputs": [],
   "source": [
    "for idx, topic in lda_model_tfidf.print_topics(-1):\n",
    "    print('Topic: {} Word: {}'.format(idx, topic))\n"
   ]
  },
  {
   "cell_type": "code",
   "execution_count": null,
   "metadata": {},
   "outputs": [],
   "source": [
    "# After lda_model\n",
    "data_after_lda = []\n",
    "for cor in corpus_tfidf:\n",
    "    temp = [0] * NUM_TOPIC\n",
    "    for index_topic, val in lda_model_tfidf[cor]:\n",
    "        temp[index_topic] = val\n",
    "    data_after_lda.append(temp)\n",
    "data = pandas.DataFrame(data={'data': data_after_lda, 'label': docs_ful['label']})\n",
    "data.to_csv('after_lda_test.csv')"
   ]
  },
  {
   "cell_type": "code",
   "execution_count": null,
   "metadata": {},
   "outputs": [],
   "source": []
  }
 ],
 "metadata": {
  "kernelspec": {
   "display_name": "Python 3",
   "language": "python",
   "name": "python3"
  },
  "language_info": {
   "codemirror_mode": {
    "name": "ipython",
    "version": 3
   },
   "file_extension": ".py",
   "mimetype": "text/x-python",
   "name": "python",
   "nbconvert_exporter": "python",
   "pygments_lexer": "ipython3",
   "version": "3.6.7"
  }
 },
 "nbformat": 4,
 "nbformat_minor": 2
}
