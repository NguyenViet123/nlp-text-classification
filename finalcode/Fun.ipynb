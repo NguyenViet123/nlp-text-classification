{
 "cells": [
  {
   "cell_type": "code",
   "execution_count": 7,
   "metadata": {},
   "outputs": [],
   "source": [
    "import pandas as pd\n",
    "import glob"
   ]
  },
  {
   "cell_type": "code",
   "execution_count": 64,
   "metadata": {},
   "outputs": [],
   "source": [
    "folders = glob.glob('data_vnv/*')"
   ]
  },
  {
   "cell_type": "code",
   "execution_count": 91,
   "metadata": {},
   "outputs": [],
   "source": [
    "train = []\n",
    "val = []\n",
    "test = []\n",
    "train_l = []\n",
    "val_l = []\n",
    "test_l = []\n",
    "\n",
    "fError = open('error.txt', 'a')\n",
    "for folder in folders:\n",
    "    paths = glob.glob(folder + '/*')\n",
    "    count = 0\n",
    "    l = len(paths)\n",
    "    for path in paths:\n",
    "        with open(path, 'r') as f:\n",
    "            content = f.read()\n",
    "            if \"</\" in content or \"/>\" in content:\n",
    "                fError.write(path + \"\\n\")\n",
    "            else:\n",
    "                if count < 0.7 * l:\n",
    "                    train.append(content)\n",
    "                    train_l.append(folder.split('/')[-1])\n",
    "                elif count < 0.9 * l:\n",
    "                    val.append(content)\n",
    "                    val_l.append(folder.split('/')[-1])\n",
    "                else:\n",
    "                    test.append(content)\n",
    "                    test_l.append(folder.split('/')[-1])\n",
    "                count += 1\n",
    "fError.close()"
   ]
  },
  {
   "cell_type": "code",
   "execution_count": 99,
   "metadata": {},
   "outputs": [],
   "source": [
    "train = pd.DataFrame(data={'content':train, 'label':train_l})\n",
    "test = pd.DataFrame(data={'content':test, 'label':test_l})\n",
    "val = pd.DataFrame(data={'content':val, 'label':val_l})"
   ]
  },
  {
   "cell_type": "code",
   "execution_count": 105,
   "metadata": {},
   "outputs": [],
   "source": [
    "from pyvi import ViTokenizer, ViPosTagger"
   ]
  },
  {
   "cell_type": "code",
   "execution_count": 112,
   "metadata": {},
   "outputs": [],
   "source": [
    "train['content'] = [ ViTokenizer.tokenize(i) for i in train['content']]"
   ]
  },
  {
   "cell_type": "code",
   "execution_count": 113,
   "metadata": {},
   "outputs": [],
   "source": [
    "test['content'] = [ ViTokenizer.tokenize(i) for i in test['content']]"
   ]
  },
  {
   "cell_type": "code",
   "execution_count": 117,
   "metadata": {},
   "outputs": [],
   "source": [
    "val['content'] = [ ViTokenizer.tokenize(i) for i in val['content']]"
   ]
  },
  {
   "cell_type": "code",
   "execution_count": 118,
   "metadata": {},
   "outputs": [],
   "source": [
    "train['content'] = [i.lower() for i in train['content']]\n",
    "test['content'] = [i.lower() for i in test['content']]\n",
    "val['content'] = [i.lower() for i in val['content']]"
   ]
  },
  {
   "cell_type": "code",
   "execution_count": 176,
   "metadata": {},
   "outputs": [],
   "source": [
    "train_ = []\n",
    "test_ = []\n",
    "val_ = []\n",
    "\n",
    "with open('stopword/stopwords.txt') as f:\n",
    "    st = [line[:-1] for line in f]\n",
    "\n",
    "\n",
    "    for d in test['content']:\n",
    "        temp = []\n",
    "        for s in d.split(' '):\n",
    "            flag = 0\n",
    "            for stop in st:\n",
    "                if s == stop:\n",
    "                    flag = 1\n",
    "                    break\n",
    "            if flag == 0:\n",
    "                temp.append(s)\n",
    "        test_.append(' '.join(temp))\n",
    "        \n",
    "    for d in train['content']:\n",
    "        temp = []\n",
    "        for s in d.split(' '):\n",
    "            flag = 0\n",
    "            for stop in st:\n",
    "                if s == stop:\n",
    "                    flag = 1\n",
    "                    break\n",
    "            if flag == 0:\n",
    "                temp.append(s)\n",
    "        train_.append(' '.join(temp))\n",
    "\n",
    "    for d in val['content']:\n",
    "        temp = []\n",
    "        for s in d.split(' '):\n",
    "            flag = 0\n",
    "            for stop in st:\n",
    "                if s == stop:\n",
    "                    flag = 1\n",
    "                    break\n",
    "            if flag == 0:\n",
    "                temp.append(s)\n",
    "        val_.append(' '.join(temp))\n",
    "\n",
    "train_ = pd.DataFrame(data={'content':train_, 'label':train_l})\n",
    "test_ = pd.DataFrame(data={'content':test_, 'label':test_l})\n",
    "val_ = pd.DataFrame(data={'content':val_, 'label':val_l})"
   ]
  },
  {
   "cell_type": "code",
   "execution_count": 188,
   "metadata": {
    "scrolled": false
   },
   "outputs": [],
   "source": [
    "train_.to_csv('data_final_vnv/train.csv')\n",
    "test_.to_csv('data_final_vnv/test.csv')\n",
    "val_.to_csv('data_final_vnv/val.csv')"
   ]
  },
  {
   "cell_type": "code",
   "execution_count": null,
   "metadata": {},
   "outputs": [],
   "source": []
  }
 ],
 "metadata": {
  "kernelspec": {
   "display_name": "Python 3",
   "language": "python",
   "name": "python3"
  },
  "language_info": {
   "codemirror_mode": {
    "name": "ipython",
    "version": 3
   },
   "file_extension": ".py",
   "mimetype": "text/x-python",
   "name": "python",
   "nbconvert_exporter": "python",
   "pygments_lexer": "ipython3",
   "version": "3.6.7"
  }
 },
 "nbformat": 4,
 "nbformat_minor": 2
}
